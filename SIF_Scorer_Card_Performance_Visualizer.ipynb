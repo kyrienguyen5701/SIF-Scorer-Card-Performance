{
  "nbformat": 4,
  "nbformat_minor": 0,
  "metadata": {
    "colab": {
      "name": "SIF Scorer Card Performance Visualizer",
      "provenance": [],
      "collapsed_sections": []
    },
    "kernelspec": {
      "name": "python3",
      "display_name": "Python 3"
    }
  },
  "cells": [
    {
      "cell_type": "markdown",
      "metadata": {
        "id": "FVvRGn38AHI3",
        "colab_type": "text"
      },
      "source": [
        "# <center>School Idol Festival Scorer Performance Visualizer</center>\n",
        "# <center>Author: Nguyễn Hồng Sơn/Kyrie Nguyen"
      ]
    },
    {
      "cell_type": "markdown",
      "metadata": {
        "id": "FceTZ3USk89E",
        "colab_type": "text"
      },
      "source": [
        "# I. Miêu tả/Description\n",
        "(English description below)\n",
        "\n",
        "Đây là phần mềm biểu diễn số điểm một thẻ scorer có thể buff bằng KĨ NĂNG của thẻ đó trong một bài hát qua nhiều lần chơi khác nhau. Dữ liệu được lấy từ https://sif.kirara.ca/setlist. Biểu đồ có thể KHÁC NHAU qua từng lần chạy.\n",
        "\n",
        "---\n",
        "This histogram displays the score a scorer can buff by its SKILL while playing a song throughout many different times. Data taken from https://sif.kirara.ca/setlist. Histograms VARY by different runtimes.\n",
        "\n",
        "Sample: (Maki Nishikino Candy Level 7)\n",
        "![Histogram](https://i.imgur.com/huuGzxN.png)"
      ]
    },
    {
      "cell_type": "markdown",
      "metadata": {
        "id": "6xnBY-EiIbrf",
        "colab_type": "text"
      },
      "source": [
        "# II. Tác dụng/Benefit\n",
        "(English reasons below)\n",
        "\n",
        "Công cụ này nhằm bổ sung thêm cho bảng tham khảo [này](https://docs.google.com/spreadsheets/d/1ZUqGrxlgaprYaUowYCwZ_Za2FdWXdTghxTnQGau7sYs/). Ở đây, các bạn có thể nhanh chóng tra thẻ scorer mình định sưu tầm/đang có bằng cách nhập thông tin thẻ được yêu cầu. Mục đích chính của biểu đồ này là giúp bạn đánh giá khách quan được mức độ ổn định cũng như tiềm năng của thẻ, phù hợp với những bạn muốn tối ưu hóa đội hình của mình hơn để có thể đạt được tier 1 trong score ranking hoặc để khè bạn bè.\n",
        "\n",
        "---\n",
        "This histogram was made to further support [this sheet](https://docs.google.com/spreadsheets/d/1ZUqGrxlgaprYaUowYCwZ_Za2FdWXdTghxTnQGau7sYs/). Here, you can immediately search for your dream/possessed scorers by input their information as required. The main purpose of this histogram is to help your analyze the stability and potential of a card, which is more appropriate if you want to further optimize your team to get to first tier in score ranking. "
      ]
    },
    {
      "cell_type": "markdown",
      "metadata": {
        "id": "artEQ1tfByeQ",
        "colab_type": "text"
      },
      "source": [
        "# III. Cài đặt/Settings\n",
        "(English settings below)\n",
        "\n",
        "Số lần chơi: 500\n",
        "\n",
        "Điều kiện bài hát: (sẽ được cập nhật khi Event Master ra bên SIF EN)\n",
        "- Độ khó: Expert\n",
        "- Số nốt: 550\n",
        "- Tỉ lệ PERFECT: 98% (sai số 1%) (những người chơi có khả năng PERFECT dưới 95% KHÔNG nên tham khảo biểu đồ này vì các thẻ scorer được kích hoạt bằng số nốt PERFECT sẽ chạy skill ít hơn dự đoán của biểu đồ này).\n",
        "- Đã full combo.\n",
        "\n",
        "Điều kiện thẻ: đã gắn ngọc charm\n",
        "\n",
        "---\n",
        "Play count: 500\n",
        "\n",
        "Song condition: (will be updated when Master Event is available in SIF EN)\n",
        "- Difficulty: Expert\n",
        "- Total combo: 550\n",
        "- PERFECT rate: 98% (with a margin of 1%) (players that cannot play a song with more than 95% PERFECT SHOULD NOT refer to this histogram, as those scorers that are activated by the number of PERFECTS would not activate as often as predicted in this histogram).\n",
        "- Full combo achieved.\n",
        "\n",
        "Card condition: attached with charm SIS\n"
      ]
    },
    {
      "cell_type": "markdown",
      "metadata": {
        "id": "stT8SHsCEVb-",
        "colab_type": "text"
      },
      "source": [
        "#IV. Hướng dẫn sử dụng biểu đồ này/ Instructions on how to use this tool\n",
        "(English instructions below)\n",
        "\n",
        "Đầu tiên, ấn vào nút open in playground ở góc trái trên. Bạn sẽ được dẫn sang một trang khác giống hệt trang này (nên đọc hết trang này trước). Ở trang đó, ngay dưới đoạn văn này là code để có thể vẽ ra biểu đồ. Ấn nút có biểu tượng giống nút play trong youtube. Sau đó, các bạn sẽ được kéo xuống phần câu hỏi gồm các thuộc tính của thẻ scorer mà bạn cần tham khảo:\n",
        "1. Thẻ này có phải chạy trên PERFECT không? - Ấn chữ 'y' là có, ấn chữ 'n' là không\n",
        "2. Số nốt kích hoạt thẻ\n",
        "3. Tỉ lệ kích hoạt thẻ - Ở đây các bạn nhập tỉ lệ dưới dạng số thập phân (VD: 58% --> .58)\n",
        "4. Điểm cho một lần kích hoạt thẻ\n",
        "5. (Tự chọn) Tên của thẻ - Các bạn có thể đặt tên thẻ như đã được hướng dẫn hoặc ấn enter để skip.\n",
        "\n",
        "Kết quả trả lại sẽ bao gồm: số điểm cao nhất (max), số điểm thấp nhất (min) mà thẻ buff được, số điểm trung bình mà thẻ có thể buff được, và đồ thị biểu diễn số lần chơi thẻ buff một số điểm nhất định nào đó (dưới dạng khoảng).\n",
        "\n",
        "Sau khi đồ thị đã được hiển thị, bạn có thể chọn lưu ảnh để có thể so sánh với các thẻ khác.\n",
        "\n",
        "Bạn có thể tham khảo mẫu ở cuối trang\n",
        "\n",
        "Tips: \n",
        "- Khi so sánh, để ý kĩ trục Ox (số điểm buff) và Oy (số lần chơi) vì nó khác nhau giữa các biểu đồ, và chú ý các cột về phía bên phải của các cột chính (các cột cao nhất) - nó cho thấy tiềm năng có thể đạt được của scorer của bạn.\n",
        "- Thẻ có rate kích hoạt cao (trên 64%) thì độ ổn định tốt nhưng tiềm năng thấp, phù hợp để hỗ trợ team đạt một mức điểm nhất định và đánh Score Match Event. Ngược lại, thẻ có rate kích hoạt thấp thì không quá ổn định nhưng tiềm năng lớn, phù hợp để đột phá đua score ranking.\n",
        "\n",
        "---\n",
        "First, click the button \"Open in playground\" at the upper left corner. You will be redirected to another page that looks just like this (so it is recommended to finish this page first). In that page, right below this paragraph is the code to draw the histogram. Press the button that looks like the Youtube Play button. You will be dragged to a list of questions that ask for the data of the card you need to know.\n",
        "1. Does this card base on the number of PERFECT? - Press 'y' for yes, 'n' for no\n",
        "2. Number of notes for activation\n",
        "3. Activation rate - Input as a decimal number (Eg: 58% --> .58)\n",
        "4. Score per activation\n",
        "5. (Optional) Name of the scorer - You can use the sample name or press enter to skip.\n",
        "\n",
        "The result includes: the maximum score buff, the minimum score buff, and the mean score buff, and the histogram representing how many times your scorer buff how much score.\n",
        "\n",
        "After the histogram is displayed, you can choose to save this histogram for later comparison with other card.\n",
        "\n",
        "You can have a look at the example at the bottom of the page.\n",
        "Tips: \n",
        "- Pay close attention to the x-axis and y-axis as they vary from histogram to histogram, and the column that is next to the right of the main columns (those highest one).\n",
        "- High activation rate (above 64%) means high stability but low potential, more appropriate for supporting team and Score Event Match. Low activation rate means low stability but very high potential, more appropriate for making breakthrough to get top score in score ranking. \n"
      ]
    },
    {
      "cell_type": "code",
      "metadata": {
        "id": "PhvGAoSvQnE0",
        "colab_type": "code",
        "colab": {
          "base_uri": "https://localhost:8080/",
          "height": 845
        },
        "outputId": "b4655176-f00c-41c1-9599-8b062117b661"
      },
      "source": [
        "import random\n",
        "import math\n",
        "import matplotlib.pyplot as plt\n",
        "import numpy as np\n",
        "from google.colab import files\n",
        "\n",
        "def convert_boolean(condition):\n",
        "    if condition:\n",
        "        return 1\n",
        "    return 0\n",
        " \n",
        "def one_time(based, notes, rate, scores):\n",
        "    buff = 0\n",
        "    perfect_count = 0\n",
        "    note_count = 0\n",
        "    PERFECT_RATE = .98\n",
        "    for i in range(550):\n",
        "        note_count += 1\n",
        "        accuracy = random.uniform(0, 1)\n",
        "        if accuracy <= PERFECT_RATE:\n",
        "            perfect_count += 1\n",
        "        if based == 'PERFECT':\n",
        "            if perfect_count % notes == 0:\n",
        "                activation = random.uniform(0, 1)\n",
        "                buff += scores * 2.5 * convert_boolean(activation < rate)\n",
        "        else:\n",
        "            if note_count % notes == 0:\n",
        "                activation = random.uniform(0, 1)\n",
        "                buff += scores * 2.5 * convert_boolean(activation < rate)\n",
        "    return int(buff)\n",
        " \n",
        "mean = 0\n",
        "space = 500\n",
        "data = []\n",
        "based = 'NOTE'\n",
        "if input('Does this card base on PERFECT notes (y/n)? ').lower() == 'y':\n",
        "         based = 'PERFECT'\n",
        "notes = int(input(\"Number of notes for activation: \"))\n",
        "rate = float(input(\"Rate (in decimal form): \")) \n",
        "score = int(input(\"Score: \"))\n",
        "name = input(\"Card name (E.g: Maki Nishikino - Candy - Smile - Level 7/ Press enter to skip):\\n\")\n",
        "for i in range(space):\n",
        "    score_this_match = one_time(based, notes , rate, score)\n",
        "    mean += score_this_match // space\n",
        "    data.append(score_this_match)\n",
        "\n",
        "minScore = min(data)\n",
        "maxScore = max(data) \n",
        "print('\\nPerformances of this card over {} tries'.format(space))\n",
        "print('--------------------------')\n",
        "print('Average score: ', math.ceil(mean))\n",
        "print('Max score: ', maxScore)\n",
        "print('Min score: ', minScore)\n",
        "# storage = open(\"UR_score_list.txt\", 'a+')\n",
        "# storage.write(name + ': ' + str(math.ceil(mean)) + '\\n')\n",
        "\n",
        "fig = plt.figure(figsize=(15,10))\n",
        "plt.style.use('ggplot')\n",
        "binwidth = score * 2.5\n",
        "xAxis = np.arange(minScore, maxScore + binwidth , binwidth)\n",
        "plt.xticks(xAxis)\n",
        "plt.hist(data, bins=xAxis, color='cyan', edgecolor='yellow', linewidth=1)\n",
        "plt.title(name)\n",
        "plt.xlabel('Additional score per match')\n",
        "plt.ylabel('Number of matches')\n",
        "plt.show()\n",
        "\n",
        "if input('Do you want to save this picture (y/n)? ').lower() == 'y':\n",
        "  # fileName = input(\"File name: \") + '.png'\n",
        "  # fig.savefig(fileName)\n",
        "  files.download(input('File name: ') + '.png')\n"
      ],
      "execution_count": null,
      "outputs": [
        {
          "output_type": "stream",
          "text": [
            "Does this card base on PERFECT notes (y/n)? y\n",
            "Number of notes for activation: 28\n",
            "Rate (in decimal form): .58\n",
            "Score: 3950\n",
            "Card name (E.g: Maki Nishikino - Candy - Smile - Level 7/ Press enter to skip):\n",
            "Maki Nishikino - Candy - Smile - Level 7\n",
            "\n",
            "Performances of this card over 500 tries\n",
            "--------------------------\n",
            "Average score:  109774\n",
            "Max score:  177750\n",
            "Min score:  49375\n"
          ],
          "name": "stdout"
        },
        {
          "output_type": "display_data",
          "data": {
            "image/png": "[encoded data removed]",
            "text/plain": [
              "<Figure size 1080x720 with 1 Axes>"
            ]
          },
          "metadata": {
            "tags": [],
            "needs_background": "light"
          }
        },
        {
          "output_type": "stream",
          "text": [
            "Do you want to save this picture (y/n)? n\n"
          ],
          "name": "stdout"
        }
      ]
    },
    {
      "cell_type": "markdown",
      "metadata": {
        "id": "P7gd3lpjGUAO",
        "colab_type": "text"
      },
      "source": [
        "Như các bạn có thể thấy, thẻ scorer Maki Candy Skill Level 7 sẽ buff được mức điểm ổn định trong khoảng 98750 cho tới 128375. Nếu bạn may mắn hơn thì tiềm năng có thể lên tới mới 128375 cho tới 148125, thậm chí là có thể cao hơn nữa.\n",
        "\n",
        "---\n",
        "As you can see from the histogram above, the Maki Candy Scorer at skill level 7 can buff stablely in the range of 98750 to 128375. If you are lucky enough, her potential can get to the range of 128375 to 148125, and even higher is possible."
      ]
    },
    {
      "cell_type": "markdown",
      "metadata": {
        "id": "XJr7hIVPePtv",
        "colab_type": "text"
      },
      "source": [
        "# V. Lưu ý thêm/Further notes\n",
        "(English below)\n",
        "Các bạn hoàn toàn có thể thay đổi settings trong mục II theo hướng dẫn sau:\n",
        "- Tay bạn không đủ to để có thể perfect rate được 98%? Trong đoạn code trên, bạn có thể sửa dòng ở bên dưới, thay số .98 thành bất cứ rate nào bạn muốn (dưới dạng số thập phân)\n",
        "\n",
        "```\n",
        "# PERFECT_RATE = .98  \n",
        "```\n",
        "- Các bạn muốn biết chính xác giá trị kỳ vọng cho một bài hát nhất định? (VD: Zurui yo Magnetic Today) Sửa số combo mặc định thành số combo bài hát bạn muốn biết (VD: 550 - > 533)\n",
        "\n",
        "```\n",
        "# for i in range(550):\n",
        "```\n",
        "Chúc bạn may mắn trong gacha và xây dựng team mơ ước của mình ^^\n",
        "\n",
        "---\n",
        "You guys can change the settings in II by these instructions:\n",
        "- Change the default perfect rate by changing the .98 in the above code to any rate you want (in decimal form).\n",
        "\n",
        "```\n",
        "#PERFECT_RATE = .98\n",
        "```\n",
        "- Change the default combo to a specific song combo by changing this piece of code (E.g: Zurui yo Magnetic Today => Change 550 to 533)\n",
        "\n",
        "```\n",
        "# for i in range (550):\n",
        "```\n",
        "Wish y'all good luck in gacha and build your desired team ^^\n"
      ]
    }
  ]
}